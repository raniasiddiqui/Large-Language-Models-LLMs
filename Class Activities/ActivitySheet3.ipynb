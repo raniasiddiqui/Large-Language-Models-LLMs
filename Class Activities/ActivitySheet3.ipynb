{
  "nbformat": 4,
  "nbformat_minor": 0,
  "metadata": {
    "colab": {
      "provenance": []
    },
    "kernelspec": {
      "name": "python3",
      "display_name": "Python 3"
    },
    "language_info": {
      "name": "python"
    }
  },
  "cells": [
    {
      "cell_type": "code",
      "source": [
        "import numpy as np"
      ],
      "metadata": {
        "id": "n8J-1RcS6i9F"
      },
      "execution_count": 1,
      "outputs": []
    },
    {
      "cell_type": "code",
      "execution_count": 2,
      "metadata": {
        "id": "kJHugZ4_6cDD"
      },
      "outputs": [],
      "source": [
        "mask_key = np.array([0.4,0.6,0.2])\n",
        "mask_query = np.array([0.7,0.2,0.5])\n",
        "mask_value = np.array([0.8,0.5,0.9])"
      ]
    },
    {
      "cell_type": "code",
      "source": [
        "Deep_key = np.array([0.2,0.5,0.7])\n",
        "Deep_query = np.array([0.1,0.2,0.3])\n",
        "Deep_value = np.array([0.3,0.4,0.5])"
      ],
      "metadata": {
        "id": "SWexHlDK66Nr"
      },
      "execution_count": 3,
      "outputs": []
    },
    {
      "cell_type": "code",
      "source": [
        "Learning_key = np.array([0.6,0.3,0.9])\n",
        "Learning_query = np.array([0.4,0.5,0.6])\n",
        "Learning_value = np.array([0.6,0.7,0.8])"
      ],
      "metadata": {
        "id": "oc6lAOi966oq"
      },
      "execution_count": 4,
      "outputs": []
    },
    {
      "cell_type": "code",
      "source": [
        "is_key = np.array([0.1,0.8,0.4])\n",
        "is_query = np.array([0.7,0.4,0.1])\n",
        "is_value = np.array([0.2,0.9,0.6])"
      ],
      "metadata": {
        "id": "A86uZAt167aq"
      },
      "execution_count": 5,
      "outputs": []
    },
    {
      "cell_type": "markdown",
      "source": [
        "# Part a"
      ],
      "metadata": {
        "id": "HIpLCPSV7dgA"
      }
    },
    {
      "cell_type": "code",
      "source": [
        "s1 = np.dot(mask_query,Deep_key)\n",
        "s2 = np.dot(mask_query,Learning_key)\n",
        "s3 = np.dot(mask_query,is_key)\n",
        "s4 = np.dot(mask_query,mask_key)\n",
        "print(s1,s2,s3,s4)"
      ],
      "metadata": {
        "colab": {
          "base_uri": "https://localhost:8080/"
        },
        "id": "ScXpBJos7eZs",
        "outputId": "a20d7550-6d16-4768-f303-4f888507cc3f"
      },
      "execution_count": 10,
      "outputs": [
        {
          "output_type": "stream",
          "name": "stdout",
          "text": [
            "0.59 0.9299999999999999 0.43000000000000005 0.5\n"
          ]
        }
      ]
    },
    {
      "cell_type": "markdown",
      "source": [
        "# Part b"
      ],
      "metadata": {
        "id": "FKVKS1yx8P3G"
      }
    },
    {
      "cell_type": "code",
      "source": [
        "result = np.array([s1,s2,s3,s4])/np.sqrt(3)\n",
        "print(result)"
      ],
      "metadata": {
        "colab": {
          "base_uri": "https://localhost:8080/"
        },
        "id": "1J7NvqJU8M7s",
        "outputId": "169c20aa-6484-4fc1-907d-31ea9cf60014"
      },
      "execution_count": 11,
      "outputs": [
        {
          "output_type": "stream",
          "name": "stdout",
          "text": [
            "[0.34063666 0.53693575 0.24826062 0.28867513]\n"
          ]
        }
      ]
    },
    {
      "cell_type": "markdown",
      "source": [
        "# Part c"
      ],
      "metadata": {
        "id": "JSVjckD98GQv"
      }
    },
    {
      "cell_type": "code",
      "source": [
        "softmax_result = np.exp(result)/np.sum(np.exp(result),keepdims=True)\n",
        "softmax_result"
      ],
      "metadata": {
        "colab": {
          "base_uri": "https://localhost:8080/"
        },
        "id": "lh82TFD777ir",
        "outputId": "3d1a4bab-8943-49f0-dd7d-6ad5c70a5c6c"
      },
      "execution_count": 9,
      "outputs": [
        {
          "output_type": "execute_result",
          "data": {
            "text/plain": [
              "array([0.24521714, 0.29840248, 0.22357972, 0.23280066])"
            ]
          },
          "metadata": {},
          "execution_count": 9
        }
      ]
    },
    {
      "cell_type": "markdown",
      "source": [
        "# Part d"
      ],
      "metadata": {
        "id": "A4UI0a-X8UEq"
      }
    },
    {
      "cell_type": "code",
      "source": [
        "y_i = softmax_result[0]*Deep_value + softmax_result[1]*Learning_value + softmax_result[2]*is_value+softmax_result[3]*mask_value\n",
        "print(y_i)"
      ],
      "metadata": {
        "colab": {
          "base_uri": "https://localhost:8080/"
        },
        "id": "Og6rpQKL8VBd",
        "outputId": "dfa50ee4-2e4e-4e64-865d-a2afacfbae3f"
      },
      "execution_count": 12,
      "outputs": [
        {
          "output_type": "stream",
          "name": "stdout",
          "text": [
            "[0.4835631  0.62459067 0.70499898]\n"
          ]
        }
      ]
    },
    {
      "cell_type": "markdown",
      "source": [
        "# Part e"
      ],
      "metadata": {
        "id": "HBL0kc0y8yHm"
      }
    },
    {
      "cell_type": "code",
      "source": [
        "logits = np.array([1.8,1.7,1.6,0.78,3.2])\n",
        "softmax_logits = np.exp(logits)/np.sum(np.exp(logits),keepdims=True)\n",
        "print(softmax_logits)\n",
        "print(np.argmax(softmax_logits))\n",
        "# Index 4 has the highest value and it corresponds to boring in the vocabulary so the predicted token will be boring"
      ],
      "metadata": {
        "colab": {
          "base_uri": "https://localhost:8080/"
        },
        "id": "dvBhtsmg8v-f",
        "outputId": "34271cf3-b61f-4596-c5e5-bfd166072a17"
      },
      "execution_count": 16,
      "outputs": [
        {
          "output_type": "stream",
          "name": "stdout",
          "text": [
            "[0.14006852 0.12673924 0.1146784  0.050508   0.56800585]\n",
            "4\n"
          ]
        }
      ]
    },
    {
      "cell_type": "markdown",
      "source": [
        "# Part f"
      ],
      "metadata": {
        "id": "7VVecLfl9l3i"
      }
    },
    {
      "cell_type": "code",
      "source": [
        "# Actual token = Fun and Predict token = Boring\n",
        "loss = -np.log(softmax_logits[3])\n",
        "print(loss)"
      ],
      "metadata": {
        "colab": {
          "base_uri": "https://localhost:8080/"
        },
        "id": "c1W1DakW9ixh",
        "outputId": "8c20193b-8d1f-4c44-c7e6-428b98f05358"
      },
      "execution_count": 17,
      "outputs": [
        {
          "output_type": "stream",
          "name": "stdout",
          "text": [
            "2.9856235676290535\n"
          ]
        }
      ]
    }
  ]
}