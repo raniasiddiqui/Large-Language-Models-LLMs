{
  "nbformat": 4,
  "nbformat_minor": 0,
  "metadata": {
    "colab": {
      "provenance": []
    },
    "kernelspec": {
      "name": "python3",
      "display_name": "Python 3"
    },
    "language_info": {
      "name": "python"
    }
  },
  "cells": [
    {
      "cell_type": "code",
      "source": [
        "import numpy as np"
      ],
      "metadata": {
        "id": "ihGKJA1yZODw"
      },
      "execution_count": 1,
      "outputs": []
    },
    {
      "cell_type": "markdown",
      "source": [
        "# Question 1"
      ],
      "metadata": {
        "id": "QP3zFpAZ4kut"
      }
    },
    {
      "cell_type": "code",
      "source": [
        "x1 = np.array([0.5,0.2,0.8])\n",
        "x2 = np.array([0.3,0.7,0.2])\n",
        "x3 = np.array([0.6,0.1,0.4])\n",
        "x4 = np.array([0.1,0.9,0.5])"
      ],
      "metadata": {
        "id": "SY91rw1W4p-Q"
      },
      "execution_count": 26,
      "outputs": []
    },
    {
      "cell_type": "markdown",
      "source": [
        "# Part a"
      ],
      "metadata": {
        "id": "LuWM9gKC5uIL"
      }
    },
    {
      "cell_type": "code",
      "source": [
        "s1 = np.dot(x1,x3)\n",
        "s2 = np.dot(x2,x3)\n",
        "s3 = np.dot(x3,x3)\n",
        "print(s1,s2,s3)\n",
        "result = [s1,s2,s3]"
      ],
      "metadata": {
        "colab": {
          "base_uri": "https://localhost:8080/"
        },
        "id": "gB3ZIYg044yG",
        "outputId": "c563a586-41ed-4f3e-871a-abd529410451"
      },
      "execution_count": 28,
      "outputs": [
        {
          "output_type": "stream",
          "name": "stdout",
          "text": [
            "0.6400000000000001 0.33 0.53\n"
          ]
        }
      ]
    },
    {
      "cell_type": "markdown",
      "source": [
        "# Part b"
      ],
      "metadata": {
        "id": "uOq8uiXm5v36"
      }
    },
    {
      "cell_type": "code",
      "source": [
        "result = np.array(result)\n",
        "softmax_result = np.exp(result)/np.sum(np.exp(result))\n",
        "print(softmax_result)"
      ],
      "metadata": {
        "colab": {
          "base_uri": "https://localhost:8080/"
        },
        "id": "kemMOHBU5MxX",
        "outputId": "7341bccc-3b6c-4950-a3c9-7782bd3372cb"
      },
      "execution_count": 30,
      "outputs": [
        {
          "output_type": "stream",
          "name": "stdout",
          "text": [
            "[0.3803321  0.27895342 0.34071448]\n"
          ]
        }
      ]
    },
    {
      "cell_type": "markdown",
      "source": [
        "# Part c"
      ],
      "metadata": {
        "id": "J4rPnjOG5yN5"
      }
    },
    {
      "cell_type": "code",
      "source": [
        "y_3 = softmax_result[0]*x1 + softmax_result[1]*x2 + softmax_result[2]*x3\n",
        "print(y_3)"
      ],
      "metadata": {
        "colab": {
          "base_uri": "https://localhost:8080/"
        },
        "id": "pGVbpqH85gsn",
        "outputId": "cc708595-e7a0-44a3-ba44-3762b9253451"
      },
      "execution_count": 31,
      "outputs": [
        {
          "output_type": "stream",
          "name": "stdout",
          "text": [
            "[0.47828076 0.30540526 0.49634216]\n"
          ]
        }
      ]
    },
    {
      "cell_type": "markdown",
      "source": [
        "# Question 2"
      ],
      "metadata": {
        "id": "QPEQi3si4iKA"
      }
    },
    {
      "cell_type": "code",
      "execution_count": 14,
      "metadata": {
        "colab": {
          "base_uri": "https://localhost:8080/"
        },
        "id": "WDd2xq2bYSh8",
        "outputId": "35948627-460c-48c3-d6e3-8a85a670e10a"
      },
      "outputs": [
        {
          "output_type": "stream",
          "name": "stdout",
          "text": [
            "(2, 2) (2, 2) (2, 2)\n"
          ]
        }
      ],
      "source": [
        "K = np.eye(2)\n",
        "Q = np.eye(2)*2\n",
        "V = np.eye(2)*3\n",
        "print(K.shape,Q.shape,V.shape)"
      ]
    },
    {
      "cell_type": "code",
      "source": [
        "x1 = np.array([0.5,0.5])\n",
        "x2 = np.array([1,1])\n",
        "x3 = np.array([0.75,0.75])\n"
      ],
      "metadata": {
        "id": "0ZvFOoqPZUQs"
      },
      "execution_count": 15,
      "outputs": []
    },
    {
      "cell_type": "markdown",
      "source": [
        "# Part a"
      ],
      "metadata": {
        "id": "jEnPY4v151e9"
      }
    },
    {
      "cell_type": "code",
      "source": [
        "k1 = np.dot(K,x1)\n",
        "v1 = np.dot(V,x1)\n",
        "q1 = np.dot(Q,x1)\n",
        "print(k1,v1,q1)"
      ],
      "metadata": {
        "colab": {
          "base_uri": "https://localhost:8080/"
        },
        "id": "MdxYkftVatSM",
        "outputId": "df8e60d4-4e88-4ea6-ce05-29426888368b"
      },
      "execution_count": 16,
      "outputs": [
        {
          "output_type": "stream",
          "name": "stdout",
          "text": [
            "[0.5 0.5] [1.5 1.5] [1. 1.]\n"
          ]
        }
      ]
    },
    {
      "cell_type": "code",
      "source": [
        "k2 = np.dot(K,x2)\n",
        "v2 = np.dot(V,x2)\n",
        "q2 = np.dot(Q,x2)\n",
        "print(k2,v2,q2)"
      ],
      "metadata": {
        "colab": {
          "base_uri": "https://localhost:8080/"
        },
        "id": "822KFpSIbCEC",
        "outputId": "561fa439-6df4-4800-990e-6383f1bd5144"
      },
      "execution_count": 17,
      "outputs": [
        {
          "output_type": "stream",
          "name": "stdout",
          "text": [
            "[1. 1.] [3. 3.] [2. 2.]\n"
          ]
        }
      ]
    },
    {
      "cell_type": "code",
      "source": [
        "k3 = np.dot(K,x3)\n",
        "v3 = np.dot(V,x3)\n",
        "q3 = np.dot(Q,x3)\n",
        "print(k3,v3,q3)"
      ],
      "metadata": {
        "colab": {
          "base_uri": "https://localhost:8080/"
        },
        "id": "xEW8ik-pbNdt",
        "outputId": "fa937d78-b484-48a0-c4d4-6740882768a9"
      },
      "execution_count": 18,
      "outputs": [
        {
          "output_type": "stream",
          "name": "stdout",
          "text": [
            "[0.75 0.75] [2.25 2.25] [1.5 1.5]\n"
          ]
        }
      ]
    },
    {
      "cell_type": "markdown",
      "source": [
        "# Part b"
      ],
      "metadata": {
        "id": "PQSezITj5537"
      }
    },
    {
      "cell_type": "code",
      "source": [
        "scores = np.zeros((3,3))"
      ],
      "metadata": {
        "id": "6aj4ldRZcg-Y"
      },
      "execution_count": 19,
      "outputs": []
    },
    {
      "cell_type": "code",
      "source": [
        "d = dict()\n",
        "d['q1'] = q1\n",
        "d['q2'] = q2\n",
        "d['q3'] = q1\n",
        "d['k1'] = k1\n",
        "d['k2'] = k2\n",
        "d['k3'] = k3\n",
        "d['v1'] = v1\n",
        "d['v2'] = v2\n",
        "d['v3'] = v3"
      ],
      "metadata": {
        "id": "nnnzPZbyclc9"
      },
      "execution_count": 20,
      "outputs": []
    },
    {
      "cell_type": "code",
      "source": [
        "for i in range(1,4):\n",
        "  for j in range(1,4):\n",
        "    if j <=i:\n",
        "      scores[i-1][j-1] = np.dot(d[f'q{i}'],d[f'k{j}'])/np.sqrt(2)\n",
        "    else:\n",
        "      scores[i-1][j-1] = -float('inf')"
      ],
      "metadata": {
        "id": "4QBEHbDebaua"
      },
      "execution_count": 21,
      "outputs": []
    },
    {
      "cell_type": "code",
      "source": [
        "scores"
      ],
      "metadata": {
        "colab": {
          "base_uri": "https://localhost:8080/"
        },
        "id": "L61kUi8ZdeKU",
        "outputId": "7022a174-c3a4-49e2-c390-219763fc6c25"
      },
      "execution_count": 22,
      "outputs": [
        {
          "output_type": "execute_result",
          "data": {
            "text/plain": [
              "array([[0.70710678,       -inf,       -inf],\n",
              "       [1.41421356, 2.82842712,       -inf],\n",
              "       [0.70710678, 1.41421356, 1.06066017]])"
            ]
          },
          "metadata": {},
          "execution_count": 22
        }
      ]
    },
    {
      "cell_type": "markdown",
      "source": [
        "# Part c"
      ],
      "metadata": {
        "id": "h16yEBSv58yb"
      }
    },
    {
      "cell_type": "code",
      "source": [
        "softmax = np.exp(scores)/np.sum(np.exp(scores),axis=1,keepdims=True)"
      ],
      "metadata": {
        "id": "8A2O_s97djB1"
      },
      "execution_count": 23,
      "outputs": []
    },
    {
      "cell_type": "code",
      "source": [
        "softmax"
      ],
      "metadata": {
        "colab": {
          "base_uri": "https://localhost:8080/"
        },
        "id": "ASsrVPEWflbj",
        "outputId": "0181dd7c-0721-4392-ddcf-c5cae5a90df9"
      },
      "execution_count": 24,
      "outputs": [
        {
          "output_type": "execute_result",
          "data": {
            "text/plain": [
              "array([[1.        , 0.        , 0.        ],\n",
              "       [0.19557032, 0.80442968, 0.        ],\n",
              "       [0.22460634, 0.45552749, 0.31986617]])"
            ]
          },
          "metadata": {},
          "execution_count": 24
        }
      ]
    },
    {
      "cell_type": "markdown",
      "source": [
        "# Part d"
      ],
      "metadata": {
        "id": "r2uc7jW85_OG"
      }
    },
    {
      "cell_type": "code",
      "source": [
        "for i in range(3):\n",
        "  new_value = np.zeros(2)\n",
        "  for j in range(3):\n",
        "    print(f'a_{i+1}{j+1} v{j+1}')\n",
        "    new_value += softmax[i][j] * d[f'v{j+1}']\n",
        "  print(new_value)\n",
        "\n"
      ],
      "metadata": {
        "colab": {
          "base_uri": "https://localhost:8080/"
        },
        "id": "JQ3-DkIIfZWb",
        "outputId": "41720f1d-2662-4790-dabb-70fc88862346"
      },
      "execution_count": 25,
      "outputs": [
        {
          "output_type": "stream",
          "name": "stdout",
          "text": [
            "a_11 v1\n",
            "a_12 v2\n",
            "a_13 v3\n",
            "[1.5 1.5]\n",
            "a_21 v1\n",
            "a_22 v2\n",
            "a_23 v3\n",
            "[2.70664452 2.70664452]\n",
            "a_31 v1\n",
            "a_32 v2\n",
            "a_33 v3\n",
            "[2.42319086 2.42319086]\n"
          ]
        }
      ]
    }
  ]
}